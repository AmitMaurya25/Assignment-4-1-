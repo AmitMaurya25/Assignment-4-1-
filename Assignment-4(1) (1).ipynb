{
 "cells": [
  {
   "cell_type": "code",
   "execution_count": 10,
   "id": "3604def7-26a0-4cc5-8f04-81ef0ebae998",
   "metadata": {},
   "outputs": [],
   "source": [
    "# Question 1---------------------------------------------------------------------------->>\n",
    "\n",
    "Here's an example of a Python class called Vehicle with an __init__ method that takes in three instance variables: name_of_vehicle, max_speed, and average_of_vehicle.\n",
    "\n",
    "\n",
    "class Vehicle:\n",
    "    def __init__(self, name_of_vehicle, max_speed, average_of_vehicle):\n",
    "        self.name_of_vehicle = name_of_vehicle\n",
    "        self.max_speed = max_speed\n",
    "        self.average_of_vehicle = average_of_vehicle"
   ]
  },
  {
   "cell_type": "code",
   "execution_count": null,
   "id": "a0a7cd6f-2f69-40e5-a564-05e1376887dc",
   "metadata": {},
   "outputs": [],
   "source": [
    "# Question 2---------------------------------------------------------------------------->>\n",
    "\n",
    "Here's a child class called Car that inherits from the Vehicle class created in Question 1. It also includes a method called seating_capacity that takes a capacity argument and returns the name of the vehicle along with its seating capacity.\n",
    "\n",
    "\n",
    "class Car(Vehicle):\n",
    "    def seating_capacity(self, capacity):\n",
    "    return f\"The {self.name_of_vehicle} has a seating capacity of {capacity} people.\"\n",
    "        \n",
    "car1 = Car(\"Toyota Camry\", 200, 30)\n",
    "print(car1.seating_capacity(5))"
   ]
  },
  {
   "cell_type": "code",
   "execution_count": 15,
   "id": "8a27935a-9993-4ded-b380-cc4c45df0a6d",
   "metadata": {},
   "outputs": [],
   "source": [
    "# Question 3---------------------------------------------------------------------------->>\n",
    "Python code that demonstrates multiple inheritance:\n",
    "class class1():\n",
    "    def course1(self, course):\n",
    "        print(f\"this is my first course {course}\")\n",
    "class class2(class1):\n",
    "    def course2(self,course):\n",
    "        return f\"this is my second course {course}\"\n",
    "    \n",
    "class class3(class2):\n",
    "    def course3(self, course):\n",
    "        return f\"this is my third course {course}\"\n",
    "    \n",
    "subject = class3()\n",
    "\n",
    "subject.course1(\"data science\")\n",
    "    this is my first course data science"
   ]
  },
  {
   "cell_type": "code",
   "execution_count": null,
   "id": "39af9908-05d6-4104-97e1-04f80abc5541",
   "metadata": {},
   "outputs": [],
   "source": [
    "# Question 4---------------------------------------------------------------------------->>\n",
    "\n",
    "In Python, getters and setters are methods used to access and modify the values of instance variables (attributes) in a class. \n",
    "They provide an interface to retrieve and update the values of private or protected instance variables in a controlled manner.\n",
    "\n",
    "class Person:\n",
    "    def __init__(self):\n",
    "        self._name = \"\"\n",
    "\n",
    "    def get_name(self):\n",
    "        return self._name\n",
    "\n",
    "    def set_name(self, name):\n",
    "        self._name = name\n",
    "\n",
    "person = Person()\n",
    "person.set_name(\"Alice\")\n",
    "print(person.get_name())\n"
   ]
  },
  {
   "cell_type": "code",
   "execution_count": null,
   "id": "37e2f53b-97c1-44f5-9de0-6abb28e2ef1e",
   "metadata": {},
   "outputs": [],
   "source": [
    "# Question 5---------------------------------------------------------------------------->>\n",
    "\n",
    "Python code that demonstrates method overriding:\n",
    "    \n",
    "class Shape:\n",
    "    def area(self):\n",
    "        pass\n",
    "\n",
    "class Rectangle(Shape):\n",
    "    def __init__(self, length, width):\n",
    "        self.length = length\n",
    "        self.width = width\n",
    "\n",
    "    def area(self):\n",
    "        return self.length * self.width\n",
    "\n",
    "class Circle(Shape):\n",
    "    def __init__(self, radius):\n",
    "        self.radius = radius\n",
    "\n",
    "    def area(self):\n",
    "        return 3.14 * self.radius * self.radius\n",
    "\n",
    "rectangle = Rectangle(4, 5)\n",
    "circle = Circle(3)\n",
    "\n",
    "print(rectangle.area())  # Output: 20\n",
    "print(circle.area())     # Output: 28.26\n"
   ]
  }
 ],
 "metadata": {
  "kernelspec": {
   "display_name": "Python 3 (ipykernel)",
   "language": "python",
   "name": "python3"
  },
  "language_info": {
   "codemirror_mode": {
    "name": "ipython",
    "version": 3
   },
   "file_extension": ".py",
   "mimetype": "text/x-python",
   "name": "python",
   "nbconvert_exporter": "python",
   "pygments_lexer": "ipython3",
   "version": "3.10.8"
  }
 },
 "nbformat": 4,
 "nbformat_minor": 5
}
